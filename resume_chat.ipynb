{
 "cells": [
  {
   "cell_type": "code",
   "execution_count": 1,
   "id": "94a1dcd3",
   "metadata": {},
   "outputs": [],
   "source": [
    "import os\n",
    "from langchain_community.document_loaders import PyPDFLoader\n",
    "from langchain.text_splitter import RecursiveCharacterTextSplitter\n",
    "from langchain.vectorstores import FAISS\n",
    "from langchain.embeddings import HuggingFaceEmbeddings\n",
    "from langchain_core.prompts import ChatPromptTemplate\n",
    "from langchain_google_genai import ChatGoogleGenerativeAI\n",
    "from langchain.chains import RetrievalQA\n",
    "\n",
    "# setup gemini api key\n",
    "api_key = os.environ[\"GOOGLE_API_KEY\"]\n",
    "\n",
    "# setup llm\n",
    "llm = ChatGoogleGenerativeAI(model=\"gemini-2.5-flash\", temperature=0.7)"
   ]
  },
  {
   "cell_type": "code",
   "execution_count": 2,
   "id": "b8e5cbb5",
   "metadata": {},
   "outputs": [
    {
     "name": "stdout",
     "output_type": "stream",
     "text": [
      "text splitter: <langchain_text_splitters.character.RecursiveCharacterTextSplitter object at 0x0000021FE2515CD0>\n",
      "documents: [Document(metadata={'producer': 'Skia/PDF m140 Google Docs Renderer', 'creator': 'PyPDF', 'creationdate': '', 'title': 'resume_v2.docx', 'source': 'RESUME_RVirtus.pdf', 'total_pages': 2, 'page': 0, 'page_label': '1'}, page_content='Reymund  M.  Virtus  reymundvirtus@gmail.com •  +639105312080  •  LinkedIn •  GitHub •  reymundvirtus.com  \\nTECHNICAL  SKILLS__________________________________________________________  \\n \\nProgramming  Languages:  Python,  TypeScript,  JavaScript,  Dart,  PHP,  GO,  C++  Frameworks:  Next.js,  React,  Node.js,  Flask,  Django,  Laravel,  Flutter,  Serverless  Framework  Databases:  MySQL,  PostgreSQL,  DynamoDB,  MongoDB,  Amazon  Neptune,  Neo4j  Cloud  Platforms:  Amazon  Web  Services  (AWS),  Microsoft  Azure,  Google  Firebase  Tools:  Docker,  Git,  GitHub,  Terraform,  CloudFormation,  Bitbucket,  Jira  \\n \\nRELEVANT  EXPERIENCE_____________________________________________________  \\n \\nCloud  Ready  Technologies  Corporation                  Naga  City,  Camarines  Sur  Software  Engineer  (Full-Time)        May  2023  -  March  2025  \\n \\n●  Led  the  development  of  serverless  applications  using  AWS  Lambda  to  build  and  deploy  APIs,  \\nintegrating\\n \\nservices\\n \\nsuch\\n \\nas'), Document(metadata={'producer': 'Skia/PDF m140 Google Docs Renderer', 'creator': 'PyPDF', 'creationdate': '', 'title': 'resume_v2.docx', 'source': 'RESUME_RVirtus.pdf', 'total_pages': 2, 'page': 0, 'page_label': '1'}, page_content='DynamoDB,\\n \\nS3,\\n \\nCognito,\\n \\nand\\n \\nBedrock\\n \\nAI.\\n ●  Directed  the  design  and  development  of  a  Chrome  extension  and  multiple  frontend  applications  \\nusing\\n \\nNext.js.\\n ●  Architected  and  implemented  data  processing  workflows  using  Azure  Functions  to  automate  \\ningestion\\n \\nfrom\\n \\nthe\\n \\nVision\\n \\nOne\\n \\nAPI.\\n ●  Led  efforts  to  connect  and  analyze  data  from  platforms  like  Google  Workspace  to  find  security  \\nrisks\\n \\nand\\n \\nimprove\\n \\noverall\\n \\nprotection.\\n ●  Mentored  interns,  providing  technical  training,  code  reviews,  and  hands-on  guidance  on  best  \\npractices,\\n \\ntools,\\n \\nand\\n \\nframeworks.\\n \\n \\nComputology  Corporation          Remote  Mobile  Application  Developer  (Part-Time)              May  2024  -  February  2025  \\n \\n●  Took  the  lead  in  enhancing  the  user  interface  of  a  wallet  application  using  Flutter,  applying  state  \\nmanagement\\n \\ntechniques\\n \\nsuch\\n \\nas\\n \\nBloc\\n \\nfor\\n \\nperformance\\n \\nand\\n \\nscalability.'), Document(metadata={'producer': 'Skia/PDF m140 Google Docs Renderer', 'creator': 'PyPDF', 'creationdate': '', 'title': 'resume_v2.docx', 'source': 'RESUME_RVirtus.pdf', 'total_pages': 2, 'page': 0, 'page_label': '1'}, page_content='●  Worked  closely  with  cross-functional  teams  to  deliver  a  seamless  and  intuitive  user  experience,  \\nemphasizing\\n \\nresponsiveness\\n \\nand\\n \\naccessibility\\n \\nacross\\n \\ndevices.\\n \\n \\nComputology  Corporation          Remote  Software  Developer  (Intern)                    March  2023  -  May  2023  \\n \\n●  Contributed  to  the  development  of  a  wallet  platform  across  both  the  backend  (Laravel)  and  \\nfrontend\\n \\n(web\\n \\nand\\n \\nmobile).\\n ●  Developed  core  features  of  the  Flutter-based  mobile  application,  ensuring  smooth  communication  \\nwith\\n \\nbackend\\n \\nservices\\n \\nand\\n \\nsecure\\n \\ntransaction\\n \\nhandling.\\n \\n \\nEDUCATION_________________________________________________________________  \\n \\nNaga  College  Foundation               Naga  City,  Camarines  Sur  Bachelor  of  Science,  Computer  Science                                                                          June  2023  \\n \\nCERTIFICATIONS____________________________________________________________'), Document(metadata={'producer': 'Skia/PDF m140 Google Docs Renderer', 'creator': 'PyPDF', 'creationdate': '', 'title': 'resume_v2.docx', 'source': 'RESUME_RVirtus.pdf', 'total_pages': 2, 'page': 0, 'page_label': '1'}, page_content='●  Career  Essentials  in  GitHub  Professional  Certificate -  GitHub  ●  Neo4j  Fundamentals  (2025) -  Neo4j  GraphAcademy\\n \\n●  SQL  (Intermediate) -  HackerRank  ●  Data  Science  Associate  (2023) -  East  West  IESI'), Document(metadata={'producer': 'Skia/PDF m140 Google Docs Renderer', 'creator': 'PyPDF', 'creationdate': '', 'title': 'resume_v2.docx', 'source': 'RESUME_RVirtus.pdf', 'total_pages': 2, 'page': 1, 'page_label': '2'}, page_content='PROFESSIONAL  EXPERIENCE________________________________________________  \\n \\nSecgra:  Internal  Control  Plane  Web  Application,  Next.js,  TypeScript,  Python  &  AWS  Company:  Cloud  Ready  Technologies  Corporation  Role:  Full-Stack  Developer,  Project  Owner  ●  Built  an  internal  admin-only  control  plane  using  Next.js  and  Python  AWS  Lambda  to  manage  \\nconfigurations\\n \\nand\\n \\ndata\\n \\nfor\\n \\nthe\\n \\nclient-facing\\n \\nplatform.\\n \\n ●  Integrated  services,  such  as  DynamoDB,  S3,  and  Cognito ,  enable  secure  &  scalable  deployments.  ●  Owned  the  project  end-to-end,  including  system  architecture,  implementation,  and  production  \\nrollout.\\n \\n \\nSecgra  Monitoring  Chrome  Extension,  Next.js,  JavaScript,  Python  &  AWS  (Private)  Company:  Cloud  Ready  Technologies  Corporation  Role:  Lead  Developer,  Project  Owner ●  Designed  and  developed  a  Chrome  extension  to  monitor  user  behavior  and  enforce  organizational  \\ncompliance\\n \\npolicies.'), Document(metadata={'producer': 'Skia/PDF m140 Google Docs Renderer', 'creator': 'PyPDF', 'creationdate': '', 'title': 'resume_v2.docx', 'source': 'RESUME_RVirtus.pdf', 'total_pages': 2, 'page': 1, 'page_label': '2'}, page_content='●  Implemented  features  for  tracking  web  activity,  password  analysis,  and  corporate  email  usage  \\nalerts.\\n ●  Generated  audit  logs  for  IT  and  HR,  supporting  internal  risk  mitigation  and  policy  enforcement.  \\n \\nSecgra  -  SaaS  Security  Platform,  Next.js,  TypeScript,  Python  &  AWS  Company:  Cloud  Ready  Technologies  Corporation  Role:  Full-Stack  Developer,  Project  Owner  ●  Contributed  to  building  secure  REST  APIs  and  scalable  frontend  components.  ●  Developed  core  modules  for  user  behavior  analytics,  threat  visibility,  and  compliance  reporting  \\nusing\\n \\nNext.js,\\n \\nFlask,\\n \\nand\\n \\nAWS\\n \\nservices.\\n ●  Contributed  to  the  documentation of  the  platform  \\n \\nPERSONAL  PROJECT  EXPERIENCE___________________________________________  \\n \\nZUME:  AI-Powered  Resume  Builder,  Next.js  &  Firebase ●  Designed  and  developed  Zume,  a  lightweight,  AI-powered  resume  builder  that  helps  users  \\ngenerate\\n \\nsummaries,\\n \\njob'), Document(metadata={'producer': 'Skia/PDF m140 Google Docs Renderer', 'creator': 'PyPDF', 'creationdate': '', 'title': 'resume_v2.docx', 'source': 'RESUME_RVirtus.pdf', 'total_pages': 2, 'page': 1, 'page_label': '2'}, page_content='descriptions,\\n \\nand\\n \\nrelevant\\n \\nskills\\n \\nusing\\n \\nthe\\n \\nGoogle\\n \\nGemini\\n \\nAPI.\\n \\n ●  Focused  on  clean  UI/UX,  minimal  setup,  and  accessibility  for  users  looking  to  create  or  refine  \\nresumes\\n \\nusing\\n \\nAI.\\n ●  Built  entirely  using  Next.js,  TailwindCSS,  shadcn/ui,  and  Firebase  hosting,  ensuring  fast  \\nperformance\\n \\nand\\n \\nease\\n \\nof\\n \\ndeployment.\\n \\n \\nSchedCore:  AI-Powered  Class  Scheduling  Platform,  Django,  PostgreSQL,  OpenAI  API ●  Developed  a  custom  scheduling  platform  for  a  school  client,  enabling  efficient  assignment  of  \\nsubjects\\n \\nto\\n \\nclassrooms\\n \\nwithout\\n \\nconflicts.\\n ●  Integrated  ChatGPT  AI  to  analyze  schedules  in  real-time  and  detect  overlapping  subjects,  \\nteachers,\\n \\nor\\n \\nroom\\n \\nallocations.\\n ●  Built  features  for  semester-based  schedule  saving,  user  permission  management,  and  \\nadmin-controlled\\n \\naccess\\n \\nfor\\n \\nediting\\n \\nor\\n \\nupdating\\n \\nschedules.'), Document(metadata={'producer': 'Skia/PDF m140 Google Docs Renderer', 'creator': 'PyPDF', 'creationdate': '', 'title': 'resume_v2.docx', 'source': 'RESUME_RVirtus.pdf', 'total_pages': 2, 'page': 1, 'page_label': '2'}, page_content='OCR  Text  Scanner  App,  Flutter  &  Python  Flask  (Thesis)  ●  Developed  a  mobile  app  in  Flutter  capable  of  extracting  text  from  images  with  94.6%  accuracy.  ●  Engineered  a  Flask-based  backend  for  semantic  error  correction  of  scanned  text  using  NLP.  ●  Integrated  Tesseract  OCR  for  text  recognition  and  SpaCy  for  natural  language  processing.')]\n"
     ]
    }
   ],
   "source": [
    "# load resume and split\n",
    "loader = PyPDFLoader(\"RESUME_RVirtus.pdf\")\n",
    "documents = loader.load()\n",
    "\n",
    "text_splitter = RecursiveCharacterTextSplitter(chunk_size=1000, chunk_overlap=0)\n",
    "docs = text_splitter.split_documents(documents)\n",
    "print(\"text splitter:\", text_splitter)\n",
    "print(\"documents:\", docs)"
   ]
  },
  {
   "cell_type": "code",
   "execution_count": 3,
   "id": "3e0dd16a",
   "metadata": {},
   "outputs": [
    {
     "name": "stderr",
     "output_type": "stream",
     "text": [
      "C:\\Users\\reymu\\AppData\\Local\\Temp\\ipykernel_10608\\1683200608.py:2: LangChainDeprecationWarning: The class `HuggingFaceEmbeddings` was deprecated in LangChain 0.2.2 and will be removed in 1.0. An updated version of the class exists in the :class:`~langchain-huggingface package and should be used instead. To use it run `pip install -U :class:`~langchain-huggingface` and import as `from :class:`~langchain_huggingface import HuggingFaceEmbeddings``.\n",
      "  embeddings = HuggingFaceEmbeddings(model_name=\"sentence-transformers/all-MiniLM-L6-v2\")\n",
      "c:\\Users\\reymu\\OneDrive\\Desktop\\projects\\opensource\\chat-with-your-resume\\env\\Lib\\site-packages\\tqdm\\auto.py:21: TqdmWarning: IProgress not found. Please update jupyter and ipywidgets. See https://ipywidgets.readthedocs.io/en/stable/user_install.html\n",
      "  from .autonotebook import tqdm as notebook_tqdm\n"
     ]
    },
    {
     "name": "stdout",
     "output_type": "stream",
     "text": [
      "embeddings: client=SentenceTransformer(\n",
      "  (0): Transformer({'max_seq_length': 256, 'do_lower_case': False, 'architecture': 'BertModel'})\n",
      "  (1): Pooling({'word_embedding_dimension': 384, 'pooling_mode_cls_token': False, 'pooling_mode_mean_tokens': True, 'pooling_mode_max_tokens': False, 'pooling_mode_mean_sqrt_len_tokens': False, 'pooling_mode_weightedmean_tokens': False, 'pooling_mode_lasttoken': False, 'include_prompt': True})\n",
      "  (2): Normalize()\n",
      ") model_name='sentence-transformers/all-MiniLM-L6-v2' cache_folder=None model_kwargs={} encode_kwargs={} multi_process=False show_progress=False\n",
      "vectorstore: <langchain_community.vectorstores.faiss.FAISS object at 0x0000021F92116870>\n"
     ]
    }
   ],
   "source": [
    "# create embeddings and index intro FAISS\n",
    "embeddings = HuggingFaceEmbeddings(model_name=\"sentence-transformers/all-MiniLM-L6-v2\")\n",
    "vectorstore = FAISS.from_documents(docs, embeddings)\n",
    "print(\"embeddings:\", embeddings)\n",
    "print(\"vectorstore:\", vectorstore)"
   ]
  },
  {
   "cell_type": "code",
   "execution_count": 4,
   "id": "357d5da0",
   "metadata": {},
   "outputs": [
    {
     "name": "stdout",
     "output_type": "stream",
     "text": [
      "retriever: tags=['FAISS', 'HuggingFaceEmbeddings'] vectorstore=<langchain_community.vectorstores.faiss.FAISS object at 0x0000021F92116870> search_kwargs={}\n",
      "qa_chain: verbose=False combine_documents_chain=StuffDocumentsChain(verbose=False, llm_chain=LLMChain(verbose=False, prompt=ChatPromptTemplate(input_variables=['context', 'question'], input_types={}, partial_variables={}, messages=[SystemMessagePromptTemplate(prompt=PromptTemplate(input_variables=['context'], input_types={}, partial_variables={}, template=\"Use the following pieces of context to answer the user's question. \\nIf you don't know the answer, just say that you don't know, don't try to make up an answer.\\n----------------\\n{context}\"), additional_kwargs={}), HumanMessagePromptTemplate(prompt=PromptTemplate(input_variables=['question'], input_types={}, partial_variables={}, template='{question}'), additional_kwargs={})]), llm=ChatGoogleGenerativeAI(model='models/gemini-2.5-flash', google_api_key=SecretStr('**********'), client=<google.ai.generativelanguage_v1beta.services.generative_service.client.GenerativeServiceClient object at 0x0000021FE2367FB0>, default_metadata=(), model_kwargs={}), output_parser=StrOutputParser(), llm_kwargs={}), document_prompt=PromptTemplate(input_variables=['page_content'], input_types={}, partial_variables={}, template='{page_content}'), document_variable_name='context') retriever=VectorStoreRetriever(tags=['FAISS', 'HuggingFaceEmbeddings'], vectorstore=<langchain_community.vectorstores.faiss.FAISS object at 0x0000021F92116870>, search_kwargs={})\n"
     ]
    }
   ],
   "source": [
    "# setup retriever chain\n",
    "retriever = vectorstore.as_retriever()\n",
    "qa_chain = RetrievalQA.from_chain_type(\n",
    "    llm = llm,\n",
    "    retriever = retriever,\n",
    ")\n",
    "print(\"retriever:\", retriever)\n",
    "print(\"qa_chain:\", qa_chain)"
   ]
  }
 ],
 "metadata": {
  "kernelspec": {
   "display_name": "env",
   "language": "python",
   "name": "python3"
  },
  "language_info": {
   "codemirror_mode": {
    "name": "ipython",
    "version": 3
   },
   "file_extension": ".py",
   "mimetype": "text/x-python",
   "name": "python",
   "nbconvert_exporter": "python",
   "pygments_lexer": "ipython3",
   "version": "3.12.1"
  }
 },
 "nbformat": 4,
 "nbformat_minor": 5
}
